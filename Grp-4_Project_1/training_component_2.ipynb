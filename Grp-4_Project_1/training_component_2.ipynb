{
  "nbformat": 4,
  "nbformat_minor": 5,
  "metadata": {
    "kernelspec": {
      "display_name": "Python 3",
      "language": "python",
      "name": "python3"
    },
    "language_info": {
      "codemirror_mode": {
        "name": "ipython",
        "version": 3
      },
      "file_extension": ".py",
      "mimetype": "text/x-python",
      "name": "python",
      "nbconvert_exporter": "python",
      "pygments_lexer": "ipython3",
      "version": "3.8.8"
    },
    "colab": {
      "name": "training component 2.ipynb",
      "provenance": []
    }
  },
  "cells": [
    {
      "cell_type": "code",
      "metadata": {
        "id": "7741752d"
      },
      "source": [
        "# importing required packages\n",
        "import cvxpy as cp\n",
        "from cvxpy import *\n",
        "import numpy as np"
      ],
      "id": "7741752d",
      "execution_count": null,
      "outputs": []
    },
    {
      "cell_type": "code",
      "metadata": {
        "id": "c1ff0181",
        "outputId": "3b100014-79cb-4b4f-f5de-645f52d4f8a9"
      },
      "source": [
        "# importing Problem data\n",
        "# no of pixels we want to retain\n",
        "corruption = 0.50;\n",
        "# path to data\n",
        "path = 'Data For Assignment/'+str(int(corruption*100))\n",
        "# importing A_inv, c, y\n",
        "A_inv =  np.load(path+'/A_inv2_'+str(int(corruption*100))+'.npy');\n",
        "C = np.load(path+'/C2_'+str(int(corruption*100))+'.npy');\n",
        "y = np.load(path+'/y2_'+str(int(corruption*100))+'.npy');\n",
        "print(\"Shape of A_inv matrix: \",A_inv.shape);\n",
        "print(\"Shape of C matrix: ,\",C.shape);\n",
        "print(\"Shape of y matrix: \",y.shape);"
      ],
      "id": "c1ff0181",
      "execution_count": null,
      "outputs": [
        {
          "name": "stdout",
          "output_type": "stream",
          "text": [
            "Shape of A_inv matrix:  (9900, 9900)\n",
            "Shape of C matrix: , (4950, 9900)\n",
            "Shape of y matrix:  (4950, 1)\n"
          ]
        }
      ]
    },
    {
      "cell_type": "code",
      "metadata": {
        "id": "070ffc7c"
      },
      "source": [
        "# Construct the problem\n",
        "# declaring variable s to be optimised\n",
        "s = cp.Variable((A_inv.shape[0],1));\n",
        "# objective function\n",
        "f = cp.norm(s,1);\n",
        "obj = cp.Minimize(f);\n",
        "# constraints\n",
        "cnsts = [C@s == y];\n",
        "# optimisation problem\n",
        "prob = cp.Problem(obj,cnsts)"
      ],
      "id": "070ffc7c",
      "execution_count": null,
      "outputs": []
    },
    {
      "cell_type": "code",
      "metadata": {
        "id": "0b1e9a15",
        "outputId": "64b5a4fd-7e24-40da-f177-5296154f9cc5"
      },
      "source": [
        "# Solve with OSQP.\n",
        "prob.solve(solver=cp.OSQP,verbose=1,max_iter=1000)\n",
        "print(\"optimal value with OSQP:\", prob.value)"
      ],
      "id": "0b1e9a15",
      "execution_count": null,
      "outputs": [
        {
          "name": "stdout",
          "output_type": "stream",
          "text": [
            "===============================================================================\n",
            "                                     CVXPY                                     \n",
            "                                    v1.1.15                                    \n",
            "===============================================================================\n",
            "(CVXPY) Nov 11 02:51:15 PM: Your problem has 9900 variables, 1 constraints, and 0 parameters.\n",
            "(CVXPY) Nov 11 02:51:15 PM: It is compliant with the following grammars: DCP, DQCP\n",
            "(CVXPY) Nov 11 02:51:15 PM: (If you need to solve this problem multiple times, but with different data, consider using parameters.)\n",
            "(CVXPY) Nov 11 02:51:15 PM: CVXPY will first compile your problem; then, it will invoke a numerical solver to obtain a solution.\n",
            "-------------------------------------------------------------------------------\n",
            "                                  Compilation                                  \n",
            "-------------------------------------------------------------------------------\n",
            "(CVXPY) Nov 11 02:51:15 PM: Compiling problem (target solver=OSQP).\n",
            "(CVXPY) Nov 11 02:51:15 PM: Reduction chain: CvxAttr2Constr -> Qp2SymbolicQp -> QpMatrixStuffing -> OSQP\n",
            "(CVXPY) Nov 11 02:51:15 PM: Applying reduction CvxAttr2Constr\n",
            "(CVXPY) Nov 11 02:51:15 PM: Applying reduction Qp2SymbolicQp\n",
            "(CVXPY) Nov 11 02:51:15 PM: Applying reduction QpMatrixStuffing\n",
            "(CVXPY) Nov 11 02:51:52 PM: Applying reduction OSQP\n",
            "(CVXPY) Nov 11 02:51:54 PM: Finished problem compilation (took 3.970e+01 seconds).\n",
            "-------------------------------------------------------------------------------\n",
            "                                Numerical solver                               \n",
            "-------------------------------------------------------------------------------\n",
            "(CVXPY) Nov 11 02:51:54 PM: Invoking solver OSQP  to obtain a solution.\n",
            "-----------------------------------------------------------------\n",
            "           OSQP v0.6.2  -  Operator Splitting QP Solver\n",
            "              (c) Bartolomeo Stellato,  Goran Banjac\n",
            "        University of Oxford  -  Stanford University 2021\n",
            "-----------------------------------------------------------------\n",
            "problem:  variables n = 19801, constraints m = 24751\n",
            "          nnz(P) + nnz(A) = 47832233\n",
            "settings: linear system solver = qdldl,\n",
            "          eps_abs = 1.0e-05, eps_rel = 1.0e-05,\n",
            "          eps_prim_inf = 1.0e-04, eps_dual_inf = 1.0e-04,\n",
            "          rho = 1.00e-01 (adaptive),\n",
            "          sigma = 1.00e-06, alpha = 1.60, max_iter = 1000\n",
            "          check_termination: on (interval 25),\n",
            "          scaling: on, scaled_termination: off\n",
            "          warm start: on, polish: on, time_limit: off\n",
            "\n",
            "iter   objective    pri res    dua res    rho        time\n",
            "   1  -7.5479e+04   2.54e+02   2.04e+09   1.00e-01   3.35e+02s\n",
            " 200   1.4252e+05   3.87e-01   1.00e+00   1.00e-01   3.86e+02s\n",
            " 400   1.4087e+05   5.22e-02   1.00e+00   1.00e-01   4.41e+02s\n",
            " 600   1.1983e+05   5.42e+00   8.45e-04   8.89e-05   8.26e+02s\n",
            " 800   1.3817e+05   1.43e+00   7.38e-04   8.89e-05   8.84e+02s\n",
            "1000   1.4175e+05   9.62e-01   7.57e-05   8.89e-05   9.40e+02s\n",
            "\n",
            "status:               solved inaccurate\n",
            "number of iterations: 1000\n",
            "optimal objective:    141752.6374\n",
            "run time:             9.40e+02s\n",
            "optimal rho estimate: 5.52e-05\n",
            "\n",
            "-------------------------------------------------------------------------------\n",
            "                                    Summary                                    \n",
            "-------------------------------------------------------------------------------\n",
            "(CVXPY) Nov 11 03:07:37 PM: Problem status: optimal_inaccurate\n",
            "(CVXPY) Nov 11 03:07:37 PM: Optimal value: 1.405e+05\n",
            "(CVXPY) Nov 11 03:07:37 PM: Compilation took 3.970e+01 seconds\n",
            "(CVXPY) Nov 11 03:07:37 PM: Solver (including time spent in interface) took 9.426e+02 seconds\n",
            "optimal value with OSQP: 140528.67740328494\n"
          ]
        },
        {
          "name": "stderr",
          "output_type": "stream",
          "text": [
            "C:\\Users\\R3M0\\anaconda3\\envs\\38tfgpu\\lib\\site-packages\\cvxpy\\problems\\problem.py:1278: UserWarning: Solution may be inaccurate. Try another solver, adjusting the solver settings, or solve with verbose=True for more information.\n",
            "  warnings.warn(\n"
          ]
        }
      ]
    },
    {
      "cell_type": "code",
      "metadata": {
        "id": "b7b42d4a"
      },
      "source": [
        "# saving the optimised value of s2\n",
        "np.save(path+'/s2_'+str(int(corruption*100)),s.value)"
      ],
      "id": "b7b42d4a",
      "execution_count": null,
      "outputs": []
    },
    {
      "cell_type": "code",
      "metadata": {
        "id": "83edb796"
      },
      "source": [
        ""
      ],
      "id": "83edb796",
      "execution_count": null,
      "outputs": []
    }
  ]
}