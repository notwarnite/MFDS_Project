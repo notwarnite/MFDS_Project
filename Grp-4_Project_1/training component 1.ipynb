{
 "cells": [
  {
   "cell_type": "code",
   "execution_count": 1,
   "id": "96b0e3d8",
   "metadata": {},
   "outputs": [],
   "source": [
    "# importing required packages\n",
    "import cvxpy as cp\n",
    "from cvxpy import *\n",
    "import numpy as np"
   ]
  },
  {
   "cell_type": "code",
   "execution_count": 2,
   "id": "d793b602",
   "metadata": {},
   "outputs": [
    {
     "name": "stdout",
     "output_type": "stream",
     "text": [
      "Shape of A_inv matrix:  (9900, 9900)\n",
      "Shape of C matrix: , (4950, 9900)\n",
      "Shape of y matrix:  (4950, 1)\n"
     ]
    }
   ],
   "source": [
    "# importing Problem data\n",
    "# no of pixels we want to retain\n",
    "corruption = 0.50;\n",
    "# path to data\n",
    "path = 'Data For Assignment/'+str(int(corruption*100))\n",
    "# importing A_inv, c, y\n",
    "A_inv =  np.load(path+'/A_inv1_'+str(int(corruption*100))+'.npy');\n",
    "C = np.load(path+'/C1_'+str(int(corruption*100))+'.npy');\n",
    "y = np.load(path+'/y1_'+str(int(corruption*100))+'.npy');\n",
    "print(\"Shape of A_inv matrix: \",A_inv.shape);\n",
    "print(\"Shape of C matrix: ,\",C.shape);\n",
    "print(\"Shape of y matrix: \",y.shape);"
   ]
  },
  {
   "cell_type": "code",
   "execution_count": 3,
   "id": "06de2e87",
   "metadata": {},
   "outputs": [],
   "source": [
    "# Construct the problem\n",
    "# declaring variable s to be optimised\n",
    "s = cp.Variable((A_inv.shape[0],1));\n",
    "# objective function\n",
    "f = cp.norm(s,1);\n",
    "obj = cp.Minimize(f);\n",
    "# constraints\n",
    "cnsts = [C@s == y];\n",
    "# optimisation problem\n",
    "prob = cp.Problem(obj,cnsts)"
   ]
  },
  {
   "cell_type": "code",
   "execution_count": 4,
   "id": "1051f1d3",
   "metadata": {},
   "outputs": [
    {
     "name": "stdout",
     "output_type": "stream",
     "text": [
      "===============================================================================\n",
      "                                     CVXPY                                     \n",
      "                                    v1.1.15                                    \n",
      "===============================================================================\n",
      "(CVXPY) Nov 11 03:26:39 PM: Your problem has 9900 variables, 1 constraints, and 0 parameters.\n",
      "(CVXPY) Nov 11 03:26:39 PM: It is compliant with the following grammars: DCP, DQCP\n",
      "(CVXPY) Nov 11 03:26:39 PM: (If you need to solve this problem multiple times, but with different data, consider using parameters.)\n",
      "(CVXPY) Nov 11 03:26:39 PM: CVXPY will first compile your problem; then, it will invoke a numerical solver to obtain a solution.\n",
      "-------------------------------------------------------------------------------\n",
      "                                  Compilation                                  \n",
      "-------------------------------------------------------------------------------\n",
      "(CVXPY) Nov 11 03:26:39 PM: Compiling problem (target solver=OSQP).\n",
      "(CVXPY) Nov 11 03:26:39 PM: Reduction chain: CvxAttr2Constr -> Qp2SymbolicQp -> QpMatrixStuffing -> OSQP\n",
      "(CVXPY) Nov 11 03:26:39 PM: Applying reduction CvxAttr2Constr\n",
      "(CVXPY) Nov 11 03:26:39 PM: Applying reduction Qp2SymbolicQp\n",
      "(CVXPY) Nov 11 03:26:39 PM: Applying reduction QpMatrixStuffing\n",
      "(CVXPY) Nov 11 03:26:58 PM: Applying reduction OSQP\n",
      "(CVXPY) Nov 11 03:26:59 PM: Finished problem compilation (took 2.019e+01 seconds).\n",
      "-------------------------------------------------------------------------------\n",
      "                                Numerical solver                               \n",
      "-------------------------------------------------------------------------------\n",
      "(CVXPY) Nov 11 03:26:59 PM: Invoking solver OSQP  to obtain a solution.\n",
      "-----------------------------------------------------------------\n",
      "           OSQP v0.6.2  -  Operator Splitting QP Solver\n",
      "              (c) Bartolomeo Stellato,  Goran Banjac\n",
      "        University of Oxford  -  Stanford University 2021\n",
      "-----------------------------------------------------------------\n",
      "problem:  variables n = 19801, constraints m = 24751\n",
      "          nnz(P) + nnz(A) = 47832233\n",
      "settings: linear system solver = qdldl,\n",
      "          eps_abs = 1.0e-05, eps_rel = 1.0e-05,\n",
      "          eps_prim_inf = 1.0e-04, eps_dual_inf = 1.0e-04,\n",
      "          rho = 1.00e-01 (adaptive),\n",
      "          sigma = 1.00e-06, alpha = 1.60, max_iter = 2000\n",
      "          check_termination: on (interval 25),\n",
      "          scaling: on, scaled_termination: off\n",
      "          warm start: on, polish: on, time_limit: off\n",
      "\n",
      "iter   objective    pri res    dua res    rho        time\n",
      "   1  -7.5479e+04   2.55e+02   2.15e+09   1.00e-01   1.58e+02s\n",
      " 200   1.3881e+05   2.23e-01   1.00e+00   1.00e-01   1.89e+02s\n",
      " 400   1.3716e+05   3.72e-02   1.00e+00   1.00e-01   2.23e+02s\n",
      " 600   1.2686e+05   2.56e+00   6.53e-04   1.01e-04   4.25e+02s\n",
      " 800   1.3861e+05   1.11e+00   1.24e-04   1.01e-04   4.54e+02s\n",
      "1000   1.3469e+05   6.74e-01   7.36e-05   1.01e-04   4.84e+02s\n",
      "1200   1.3538e+05   3.63e-01   3.04e-05   1.01e-04   5.13e+02s\n",
      "1400   1.3544e+05   3.10e-01   2.57e-05   1.01e-04   5.43e+02s\n",
      "1600   1.3537e+05   2.72e-01   2.50e-05   1.01e-04   5.71e+02s\n",
      "1625   1.3540e+05   2.79e-01   1.65e-05   1.01e-04   5.75e+02s\n",
      "\n",
      "status:               solved\n",
      "solution polish:      unsuccessful\n",
      "number of iterations: 1625\n",
      "optimal objective:    135395.6871\n",
      "run time:             7.27e+02s\n",
      "optimal rho estimate: 7.02e-05\n",
      "\n",
      "-------------------------------------------------------------------------------\n",
      "                                    Summary                                    \n",
      "-------------------------------------------------------------------------------\n",
      "(CVXPY) Nov 11 03:39:09 PM: Problem status: optimal\n",
      "(CVXPY) Nov 11 03:39:09 PM: Optimal value: 1.357e+05\n",
      "(CVXPY) Nov 11 03:39:09 PM: Compilation took 2.019e+01 seconds\n",
      "(CVXPY) Nov 11 03:39:09 PM: Solver (including time spent in interface) took 7.296e+02 seconds\n",
      "optimal value with OSQP: 135689.07806776703\n"
     ]
    }
   ],
   "source": [
    "# Solve with OSQP.\n",
    "prob.solve(solver=cp.OSQP,verbose=1,max_iter=2000)\n",
    "print(\"optimal value with OSQP:\", prob.value)"
   ]
  },
  {
   "cell_type": "code",
   "execution_count": 5,
   "id": "4499980f",
   "metadata": {},
   "outputs": [],
   "source": [
    "# saving the optimised value of s1\n",
    "np.save(path+'/s1_'+str(int(corruption*100)),s.value)"
   ]
  },
  {
   "cell_type": "code",
   "execution_count": null,
   "id": "a43efdff",
   "metadata": {},
   "outputs": [],
   "source": []
  }
 ],
 "metadata": {
  "kernelspec": {
   "display_name": "Python 3",
   "language": "python",
   "name": "python3"
  },
  "language_info": {
   "codemirror_mode": {
    "name": "ipython",
    "version": 3
   },
   "file_extension": ".py",
   "mimetype": "text/x-python",
   "name": "python",
   "nbconvert_exporter": "python",
   "pygments_lexer": "ipython3",
   "version": "3.8.8"
  }
 },
 "nbformat": 4,
 "nbformat_minor": 5
}
